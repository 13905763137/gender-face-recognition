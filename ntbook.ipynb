{
 "cells": [
  {
   "cell_type": "code",
   "execution_count": 6,
   "metadata": {},
   "outputs": [],
   "source": [
    "# Thanks to https://github.com/MartinekV/NotebookDeployTest/ for help!\n",
    "\n",
    "# !pip install fastai2>=0.0.11"
   ]
  },
  {
   "cell_type": "code",
   "execution_count": 7,
   "metadata": {
    "_cell_guid": "79c7e3d0-c299-4dcb-8224-4455121ee9b0",
    "_uuid": "d629ff2d2480ee46fbb7e2d37f6b5fab8052498a"
   },
   "outputs": [],
   "source": [
    "from fastai2.learner import load_learner\n",
    "from fastai2.vision.widgets import *\n",
    "from fastai2.vision.all import *\n",
    "\n",
    "#CPU TRUE IS ESSENTIAL FOR BINDER!\n",
    "\n",
    "github_path = Path()/'export.pkl'\n",
    "learn_inf = load_learner(github_path, cpu=True)\n",
    "\n",
    "# kaggle_path = Path(\"..\")/'input/export.pkl'\n",
    "# learn_inf = load_learner(kaggle_path, cpu=True)"
   ]
  },
  {
   "cell_type": "code",
   "execution_count": 8,
   "metadata": {},
   "outputs": [],
   "source": [
    "btn_upload = widgets.FileUpload()\n",
    "btn_run = widgets.Button(description='Classify')\n",
    "out_pl = widgets.Output()\n",
    "lbl_pred = widgets.Label()"
   ]
  },
  {
   "cell_type": "code",
   "execution_count": 14,
   "metadata": {},
   "outputs": [],
   "source": [
    "def on_click(change): \n",
    "    img = PILImage.create(btn_upload.data[-1])\n",
    "    \n",
    "    out_pl.clear_output()\n",
    "    with out_pl: display(img.to_thumb(128,128))\n",
    "    \n",
    "    cls, index, probs = learn_inf.predict(img)\n",
    "    classes = learn_inf.dls.vocab\n",
    "    lbl_base = widgets.Label()\n",
    "    lbl_base.value=\"Probabilities\"\n",
    "    \n",
    "    pred,pred_idx,probs = learn_inf.predict(img)\n",
    "    \n",
    "    lbl_pred.value = f'Prediction: {cls}; Probability: {probs[index]:.04f}'\n",
    "    \n",
    "btn_run.on_click(on_click)"
   ]
  },
  {
   "cell_type": "code",
   "execution_count": 9,
   "metadata": {},
   "outputs": [],
   "source": [
    "VBox([widgets.Label('Woman or man?'),widgets.Label('Select your image!'), \n",
    "      btn_upload, btn_run, out_pl, lbl_pred])"
   ]
  }
 ],
 "metadata": {
  "kernelspec": {
   "display_name": "Python 3",
   "language": "python",
   "name": "python3"
  },
  "language_info": {
   "codemirror_mode": {
    "name": "ipython",
    "version": 3
   },
   "file_extension": ".py",
   "mimetype": "text/x-python",
   "name": "python",
   "nbconvert_exporter": "python",
   "pygments_lexer": "ipython3",
   "version": "3.7.1"
  }
 },
 "nbformat": 4,
 "nbformat_minor": 4
}
